{
 "cells": [
  {
   "cell_type": "code",
   "execution_count": 23,
   "id": "according-combine",
   "metadata": {},
   "outputs": [],
   "source": [
    "import pandas as pd\n",
    "import numpy as np\n",
    "\n",
    "from imblearn.combine import SMOTETomek\n",
    "\n",
    "from sklearn.model_selection import train_test_split\n",
    "from sklearn.preprocessing import StandardScaler\n",
    "from sklearn.preprocessing import LabelEncoder\n",
    "\n",
    "from sklearn.neighbors import KNeighborsClassifier\n",
    "from sklearn.ensemble import RandomForestClassifier\n",
    "from sklearn.linear_model import LogisticRegression\n",
    "from sklearn.naive_bayes import GaussianNB\n",
    "\n",
    "from sklearn.metrics import confusion_matrix\n",
    "from sklearn.metrics import f1_score\n",
    "from sklearn.metrics import accuracy_score\n",
    "from sklearn.metrics import precision_score\n",
    "from sklearn.metrics import recall_score\n",
    "from sklearn.metrics import classification_report\n",
    "\n",
    "import matplotlib.pyplot as plt"
   ]
  },
  {
   "cell_type": "code",
   "execution_count": 24,
   "id": "adult-irrigation",
   "metadata": {},
   "outputs": [],
   "source": [
    "df_data_input_train = pd.read_csv('kendaraan_train.csv')\n",
    "df_data_input_test = pd.read_csv('kendaraan_test.csv')"
   ]
  },
  {
   "cell_type": "code",
   "execution_count": 25,
   "id": "approximate-frank",
   "metadata": {},
   "outputs": [],
   "source": [
    "frame = [df_data_input_train, df_data_input_test]\n",
    "dataset = pd.concat(frame)"
   ]
  },
  {
   "cell_type": "code",
   "execution_count": 26,
   "id": "regulation-basin",
   "metadata": {},
   "outputs": [],
   "source": [
    "# Data Preprocessing\n",
    "\n",
    "# penghapusan kolom id premi kanal_penjualan lama_berlangganan\n",
    "# dikarenakan fitur yang menurut kami tidak berkaitan dalam penentuan label\n",
    "\n",
    "dataset.drop(columns=['id','Premi','Kanal_Penjualan','Lama_Berlangganan'], inplace=True)\n",
    "\n",
    "# penghapusan data yang memiliki mising value\n",
    "\n",
    "dataset.dropna(inplace=True)\n",
    "\n",
    "# pengisian data menggunakan median\n",
    "\n",
    "#dataset.fillna(dataset.median(), inplace=True)\n",
    "\n",
    "# melakukan label encode\n",
    "\n",
    "lbl_enc = dataset[['Jenis_Kelamin','Umur_Kendaraan','Kendaraan_Rusak']]\n",
    "dataset[['Jenis_Kelamin','Umur_Kendaraan','Kendaraan_Rusak']] = lbl_enc.apply(LabelEncoder().fit_transform)"
   ]
  },
  {
   "cell_type": "code",
   "execution_count": 27,
   "id": "suburban-hayes",
   "metadata": {},
   "outputs": [],
   "source": [
    "# Split dataset\n",
    "\n",
    "# membagi dataset menjadi data latih dan data uji\n",
    "# data uji diambil sebanyak 20% dari data yang ada\n",
    "\n",
    "X = dataset.iloc[:, 0:7]\n",
    "y = dataset.iloc[:, 7]\n",
    "X_train, X_test, y_train, y_test = train_test_split(X, y, random_state=0, test_size=0.2)"
   ]
  },
  {
   "cell_type": "code",
   "execution_count": 28,
   "id": "alpine-hampton",
   "metadata": {},
   "outputs": [
    {
     "data": {
      "text/plain": [
       "<AxesSubplot:>"
      ]
     },
     "execution_count": 28,
     "metadata": {},
     "output_type": "execute_result"
    },
    {
     "data": {
      "image/png": "[encoded data removed]",
      "text/plain": [
       "<Figure size 1440x720 with 1 Axes>"
      ]
     },
     "metadata": {
      "needs_background": "light"
     },
     "output_type": "display_data"
    }
   ],
   "source": [
    "y_train.value_counts().plot.bar(figsize=[20,10])"
   ]
  },
  {
   "cell_type": "code",
   "execution_count": 29,
   "id": "rental-estate",
   "metadata": {},
   "outputs": [
    {
     "name": "stderr",
     "output_type": "stream",
     "text": [
      "C:\\Python38\\lib\\site-packages\\imblearn\\utils\\_validation.py:587: FutureWarning: Pass sampling_strategy=0.8 as keyword args. From version 0.9 passing these as positional arguments will result in an error\n",
      "  warnings.warn(\n"
     ]
    }
   ],
   "source": [
    "# Oversampling SMOTE\n",
    "\n",
    "# Penggunaan Oversampling karena jumlah data \n",
    "# pada kelas yang ada sangat jauh\n",
    "\n",
    "ns = SMOTETomek(0.8)\n",
    "X_train_ns, y_train_ns = ns.fit_resample(X_train, y_train)"
   ]
  },
  {
   "cell_type": "code",
   "execution_count": 30,
   "id": "mineral-sense",
   "metadata": {},
   "outputs": [],
   "source": [
    "# Scaling\n",
    "\n",
    "# Penggunaan scaling pada data yang ada\n",
    "scaler = StandardScaler()\n",
    "X_train_ns = scaler.fit_transform(X_train_ns)\n",
    "X_test = scaler.transform(X_test)"
   ]
  },
  {
   "cell_type": "code",
   "execution_count": 31,
   "id": "experienced-replica",
   "metadata": {},
   "outputs": [],
   "source": [
    "# Classification Model\n",
    "\n",
    "# terdapat 4 model yaitu KNN, Random Forest, Logistic Regression, Naive Bayes\n",
    "\n",
    "# KNN\n",
    "classifier = KNeighborsClassifier(n_neighbors=3, metric='euclidean')\n",
    "\n",
    "# Random Forest\n",
    "#classifier = RandomForestClassifier(max_depth=4, random_state=0)\n",
    "\n",
    "# Logistic Regression\n",
    "#classifier = LogisticRegression(random_state=0)\n",
    "\n",
    "# Naive Bayes\n",
    "#classifier = GaussianNB()\n",
    "\n",
    "classifier.fit(X_train_ns, y_train_ns)\n",
    "y_pred = classifier.predict(X_test)"
   ]
  },
  {
   "cell_type": "code",
   "execution_count": 32,
   "id": "spare-import",
   "metadata": {},
   "outputs": [
    {
     "name": "stdout",
     "output_type": "stream",
     "text": [
      "[[39815  3534]\n",
      " [ 4596  1489]]\n"
     ]
    }
   ],
   "source": [
    "# Evalutaion\n",
    "\n",
    "# Confusion Matrix\n",
    "cm = confusion_matrix(y_test, y_pred)\n",
    "print(cm)"
   ]
  },
  {
   "cell_type": "code",
   "execution_count": 33,
   "id": "tutorial-oxygen",
   "metadata": {},
   "outputs": [
    {
     "name": "stdout",
     "output_type": "stream",
     "text": [
      "              precision    recall  f1-score   support\n",
      "\n",
      "           0       0.90      0.92      0.91     43349\n",
      "           1       0.30      0.24      0.27      6085\n",
      "\n",
      "    accuracy                           0.84     49434\n",
      "   macro avg       0.60      0.58      0.59     49434\n",
      "weighted avg       0.82      0.84      0.83     49434\n",
      "\n"
     ]
    }
   ],
   "source": [
    "print(classification_report(y_test, y_pred))"
   ]
  },
  {
   "cell_type": "code",
   "execution_count": null,
   "id": "electrical-appearance",
   "metadata": {},
   "outputs": [],
   "source": []
  }
 ],
 "metadata": {
  "kernelspec": {
   "display_name": "Python 3",
   "language": "python",
   "name": "python3"
  },
  "language_info": {
   "codemirror_mode": {
    "name": "ipython",
    "version": 3
   },
   "file_extension": ".py",
   "mimetype": "text/x-python",
   "name": "python",
   "nbconvert_exporter": "python",
   "pygments_lexer": "ipython3",
   "version": "3.8.2"
  }
 },
 "nbformat": 4,
 "nbformat_minor": 5
}
